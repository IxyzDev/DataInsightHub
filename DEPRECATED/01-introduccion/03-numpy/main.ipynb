{
 "cells": [
  {
   "cell_type": "markdown",
   "metadata": {},
   "source": [
    "1.- Importar NumPy"
   ]
  },
  {
   "cell_type": "code",
   "execution_count": 2,
   "metadata": {},
   "outputs": [],
   "source": [
    "import numpy as np"
   ]
  },
  {
   "cell_type": "markdown",
   "metadata": {},
   "source": [
    "1.- Crear una matriz (ndarray)"
   ]
  },
  {
   "cell_type": "code",
   "execution_count": 10,
   "metadata": {},
   "outputs": [
    {
     "name": "stdout",
     "output_type": "stream",
     "text": [
      "[[1 2 3]\n",
      " [4 5 6]\n",
      " [7 8 9]]\n"
     ]
    }
   ],
   "source": [
    "matriz = np.array([[1, 2, 3], [4, 5, 6], [7, 8, 9]])\n",
    "\n",
    "print(matriz)"
   ]
  },
  {
   "cell_type": "markdown",
   "metadata": {},
   "source": [
    "3.- Acceder a elementos individuales"
   ]
  },
  {
   "cell_type": "code",
   "execution_count": 6,
   "metadata": {},
   "outputs": [
    {
     "name": "stdout",
     "output_type": "stream",
     "text": [
      "Elemento: 6\n"
     ]
    }
   ],
   "source": [
    "elemento = matriz[1, 2]\n",
    "print(\"Elemento:\", elemento)"
   ]
  },
  {
   "cell_type": "markdown",
   "metadata": {},
   "source": [
    "4.- Operaciones básicas"
   ]
  },
  {
   "cell_type": "code",
   "execution_count": 11,
   "metadata": {},
   "outputs": [
    {
     "name": "stdout",
     "output_type": "stream",
     "text": [
      "Suma:\n",
      " [[11 12 13]\n",
      " [14 15 16]\n",
      " [17 18 19]]\n",
      "Producto:\n",
      " [[ 2  4  6]\n",
      " [ 8 10 12]\n",
      " [14 16 18]]\n",
      "Promedio: 5.0\n",
      "Suma de columnas:\n",
      " [12 15 18]\n"
     ]
    }
   ],
   "source": [
    "suma = matriz + 10\n",
    "producto = matriz * 2\n",
    "promedio = np.mean(matriz)\n",
    "suma_columnas = np.sum(matriz, axis=0)\n",
    "\n",
    "print(\"Suma:\\n\", suma)\n",
    "print(\"Producto:\\n\", producto)\n",
    "print(\"Promedio:\", promedio)\n",
    "print(\"Suma de columnas:\\n\", suma_columnas)"
   ]
  },
  {
   "cell_type": "markdown",
   "metadata": {},
   "source": [
    "5.- Crear un rango de valores"
   ]
  },
  {
   "cell_type": "code",
   "execution_count": 18,
   "metadata": {},
   "outputs": [
    {
     "name": "stdout",
     "output_type": "stream",
     "text": [
      "Rango:\n",
      " [0 2 4 6 8]\n"
     ]
    }
   ],
   "source": [
    "rango = np.arange(0, 10, 2)\n",
    "\n",
    "print(\"Rango:\\n\", rango)"
   ]
  },
  {
   "cell_type": "markdown",
   "metadata": {},
   "source": [
    "6.- Crear matriz de ceros y unos"
   ]
  },
  {
   "cell_type": "code",
   "execution_count": 19,
   "metadata": {},
   "outputs": [
    {
     "name": "stdout",
     "output_type": "stream",
     "text": [
      "Matriz de ceros:\n",
      " [[0. 0. 0. 0.]\n",
      " [0. 0. 0. 0.]\n",
      " [0. 0. 0. 0.]]\n",
      "Matriz de unos:\n",
      " [[1. 1. 1.]\n",
      " [1. 1. 1.]]\n"
     ]
    }
   ],
   "source": [
    "matriz_zeros = np.zeros((3, 4))\n",
    "matriz_ones = np.ones((2, 3))\n",
    "\n",
    "print(\"Matriz de ceros:\\n\", matriz_zeros)\n",
    "print(\"Matriz de unos:\\n\", matriz_ones)"
   ]
  },
  {
   "cell_type": "markdown",
   "metadata": {},
   "source": [
    "7.- Producto interno y externo"
   ]
  },
  {
   "cell_type": "code",
   "execution_count": 21,
   "metadata": {},
   "outputs": [
    {
     "name": "stdout",
     "output_type": "stream",
     "text": [
      "Producto interno: 32\n",
      "Producto externo:\n",
      " [[ 4  5  6]\n",
      " [ 8 10 12]\n",
      " [12 15 18]]\n"
     ]
    }
   ],
   "source": [
    "vector_a = np.array([1, 2, 3])\n",
    "vector_b = np.array([4, 5, 6])\n",
    "producto_interno = np.dot(vector_a, vector_b)\n",
    "producto_externo = np.outer(vector_a, vector_b)\n",
    "\n",
    "print(\"Producto interno:\", producto_interno)\n",
    "print(\"Producto externo:\\n\", producto_externo)"
   ]
  },
  {
   "cell_type": "markdown",
   "metadata": {},
   "source": [
    "8.- Álgebra lineal"
   ]
  },
  {
   "cell_type": "code",
   "execution_count": 22,
   "metadata": {},
   "outputs": [
    {
     "name": "stdout",
     "output_type": "stream",
     "text": [
      "Producto matricial:\n",
      " [[2 3]\n",
      " [4 5]]\n",
      "Matriz inversa:\n",
      " [[-2.5  1.5]\n",
      " [ 2.  -1. ]]\n"
     ]
    }
   ],
   "source": [
    "matriz_a = np.array([[2, 3], [4, 5]])\n",
    "matriz_b = np.array([[1, 0], [0, 1]])\n",
    "producto_matricial = np.matmul(matriz_a, matriz_b)\n",
    "inversa = np.linalg.inv(matriz_a)\n",
    "\n",
    "print(\"Producto matricial:\\n\", producto_matricial)\n",
    "print(\"Matriz inversa:\\n\", inversa)"
   ]
  },
  {
   "cell_type": "markdown",
   "metadata": {},
   "source": [
    "9.- Generación de números aleatorios"
   ]
  },
  {
   "cell_type": "code",
   "execution_count": 23,
   "metadata": {},
   "outputs": [
    {
     "name": "stdout",
     "output_type": "stream",
     "text": [
      "Números aleatorios:\n",
      " [0.18369743 0.44849504 0.2255744  0.41642439 0.46257079]\n",
      "Matriz aleatoria:\n",
      " [[-0.09429026 -1.2285069   0.59012252]\n",
      " [-1.24698265 -0.51789314  0.91810428]\n",
      " [ 0.20791016 -0.81987606  0.87013872]]\n"
     ]
    }
   ],
   "source": [
    "numeros_aleatorios = np.random.rand(5)\n",
    "matriz_aleatoria = np.random.randn(3, 3)\n",
    "\n",
    "print(\"Números aleatorios:\\n\", numeros_aleatorios)\n",
    "print(\"Matriz aleatoria:\\n\", matriz_aleatoria)"
   ]
  }
 ],
 "metadata": {
  "kernelspec": {
   "display_name": "Python 3",
   "language": "python",
   "name": "python3"
  },
  "language_info": {
   "codemirror_mode": {
    "name": "ipython",
    "version": 3
   },
   "file_extension": ".py",
   "mimetype": "text/x-python",
   "name": "python",
   "nbconvert_exporter": "python",
   "pygments_lexer": "ipython3",
   "version": "3.11.4"
  },
  "orig_nbformat": 4
 },
 "nbformat": 4,
 "nbformat_minor": 2
}
