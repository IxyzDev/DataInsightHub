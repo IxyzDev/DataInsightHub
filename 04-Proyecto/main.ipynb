{
 "cells": [
  {
   "cell_type": "markdown",
   "metadata": {},
   "source": [
    "# Bases de Datos III - Proyecto (15%)"
   ]
  },
  {
   "cell_type": "markdown",
   "metadata": {},
   "source": [
    "## Twitch Social Networks - Análisis de Redes Sociales en Twitch"
   ]
  },
  {
   "cell_type": "markdown",
   "metadata": {},
   "source": [
    "## Introducción\n",
    "\n",
    "Este dataset se centra en las redes de usuarios de Twitch, que es una plataforma popular para la transmisión de videojuegos en vivo. Los nodos en estas redes representan a los usuarios de Twitch, mientras que las aristas representan amistades mutuas entre ellos. El dataset incluye diversas características de los usuarios, como los juegos que les gustan y su ubicación, y se centra en la tarea de clasificación binaria de nodos para predecir si un usuario usa lenguaje explícito en sus transmisiones."
   ]
  },
  {
   "cell_type": "markdown",
   "metadata": {},
   "source": [
    "### Descripción del Dataset\n",
    "\n"
   ]
  },
  {
   "cell_type": "markdown",
   "metadata": {},
   "source": [
    "#### Variables\n",
    "\n",
    "- **Nodes (Nodos)**: Representan los usuarios individuales en la red de Twitch.\n",
    "- **Edges (Aristas)**: Representan las relaciones de amistad entre los usuarios.\n",
    "- **Density (Densidad)**: Es una medida de cuán conectada está la red.\n",
    "- **Transitivity (Transitividad)**: Es una medida de la tendencia a formar triángulos en la red.\n",
    "- **Features (Características)**: Atributos de los usuarios como juegos jugados, ubicación, y hábitos de transmisión.\n",
    "\n"
   ]
  },
  {
   "cell_type": "markdown",
   "metadata": {},
   "source": [
    "#### Estadísticas del Dataset\n",
    "\n",
    "- **Número de Nodos**: Varía entre 1,912 y 9,498 dependiendo del idioma.\n",
    "- **Número de Aristas**: Varía entre 31,299 y 153,138.\n",
    "- **Densidad**: Varía entre 0.002 y 0.017.\n",
    "- **Transitividad**: Varía entre 0.042 y 0.131.\n",
    "\n"
   ]
  },
  {
   "cell_type": "markdown",
   "metadata": {},
   "source": [
    "### Descripción detallada de los archivos y datos"
   ]
  },
  {
   "cell_type": "markdown",
   "metadata": {},
   "source": [
    "#### `musae_ES_edges.csv`\n",
    "Este archivo contiene las relaciones entre diferentes nodos (usuarios de Twitch). Las columnas \"from\" y \"to\" representan identificadores únicos de usuarios en Twitch. Cada fila en este archivo muestra una relación de amistad entre dos usuarios."
   ]
  },
  {
   "cell_type": "markdown",
   "metadata": {},
   "source": [
    "#### `musae_ES_features.json`\n",
    "Este archivo en formato JSON contiene características de cada nodo. Cada clave es un identificador único para un nodo y el valor asociado es una lista de características. Estas pueden incluir varios aspectos como los juegos que juegan, su ubicación geográfica, etc.\n",
    "\n",
    "Lamentablemente como no se cuenta con una leyenda o guia, nos vemos en la imposibilitados de realizar los siguientes tipoos de analisis:\n",
    "\n",
    "1. **Análisis Descriptivo**: Sin entender qué representa cada variable, te resultará difícil realizar un análisis descriptivo significativo que ofrezca insights sobre los datos.\n",
    "\n",
    "2. **Modelado Supervisado**: Los modelos de aprendizaje supervisado requieren un buen entendimiento de las características para ser efectivos. No saber qué representan las variables puede hacer que no sepas qué modelo aplicar ni cómo interpretar los resultados.\n",
    "\n",
    "3. **Correlaciones y Relaciones**: Sin entender qué significan las variables, sería inútil calcular correlaciones o relaciones entre ellas, ya que no podrías interpretar el significado de estas relaciones.\n",
    "\n",
    "En resumen, aunque puedes realizar ciertos tipos de análisis no supervisados, como agrupamiento o reducción de dimensionalidad, la falta de una leyenda o guía que explique las características limita seriamente tu capacidad para generar insights significativos o aplicables."
   ]
  },
  {
   "cell_type": "markdown",
   "metadata": {},
   "source": [
    "#### `musae_ES_target.csv`\n",
    "Este archivo contiene información adicional sobre cada nodo, representada en diferentes campos:\n",
    "\n",
    "* id: Identificador único para cada nodo.\n",
    "* days: Número de días desde algún evento significativo (e.g., creación de la cuenta).\n",
    "* mature: Indica si el streamer utiliza lenguaje explícito (True/False).\n",
    "* views: Número de vistas que ha recibido el nodo.\n",
    "* partner: Indica si el nodo es un socio de Twitch (True/False).\n",
    "* new_id: Otro identificador para el nodo, aunque su uso no está claro."
   ]
  },
  {
   "cell_type": "markdown",
   "metadata": {},
   "source": [
    "### Cargar y Previsualización del Dataset"
   ]
  },
  {
   "cell_type": "code",
   "execution_count": 1,
   "metadata": {},
   "outputs": [
    {
     "name": "stdout",
     "output_type": "stream",
     "text": [
      "Primeros registros de Edges:\n",
      "   from    to\n",
      "0     0  1819\n",
      "1     0  2840\n",
      "2     1  1565\n",
      "3     1  1309\n",
      "4     1  1397\n",
      "\n",
      "Primeros registros de Features:\n",
      "1412: [89, 166, 1040, 846, 2987, 1649, 920, 224, 3097, 400, 569, 822, 2362, 802, 2728, 2734]\n",
      "3032: [515, 1943, 289, 3084, 1575, 3164, 920, 224, 3097, 400, 1391, 635, 569, 821, 2645, 1147, 440]\n",
      "4032: [1948, 421, 586, 202, 2024, 846, 45, 3164, 920, 224, 2798, 2064, 2534, 139, 2664, 2362]\n",
      "3945: [438, 2464, 967, 861, 152, 1649, 920, 1907, 2185, 2986, 1607, 1895, 1013, 928, 569, 139, 608, 2362, 802, 1530, 1028, 1147, 763, 2734, 82]\n",
      "949: [2598, 1713, 1053, 2928, 473, 846, 920, 224, 3097, 706, 1525, 2912, 2362]\n",
      "\n",
      "Primeros registros de Target:\n",
      "          id  days  mature   views  partner  new_id\n",
      "0   68458707  1522   False    4405    False    3558\n",
      "1  133928858   768   False  164810     True    3372\n",
      "2   46892468  1895   False    4953    False     818\n",
      "3  128745923   828    True   12262    False     236\n",
      "4   84422595  1317   False    4937    False    2255\n"
     ]
    }
   ],
   "source": [
    "import pandas as pd\n",
    "import json\n",
    "\n",
    "# Cargar los archivos\n",
    "edges = pd.read_csv('./data/twitch_ES/musae_ES_edges.csv')\n",
    "with open('./data/twitch_ES/musae_ES_features.json') as f:\n",
    "    features = json.load(f)\n",
    "target = pd.read_csv('./data/twitch_ES/musae_ES_target.csv')\n",
    "\n",
    "# Mostrar los primeros registros de cada archivo\n",
    "print(\"Primeros registros de Edges:\")\n",
    "print(edges.head())\n",
    "print(\"\\nPrimeros registros de Features:\")\n",
    "for key, value in list(features.items())[:5]:\n",
    "    print(f\"{key}: {value}\")\n",
    "print(\"\\nPrimeros registros de Target:\")\n",
    "print(target.head())\n"
   ]
  },
  {
   "cell_type": "markdown",
   "metadata": {},
   "source": [
    "### Tareas posibles:"
   ]
  },
  {
   "cell_type": "markdown",
   "metadata": {},
   "source": [
    "#### Transferencia de Aprendizaje\n",
    "\n",
    "La transferencia de aprendizaje se refiere al método por el cual un modelo desarrollado para una tarea particular se adapta para una segunda tarea relacionada. Por ejemplo, si se han recopilado datos de usuarios que transmiten en un idioma en particular en Twitch, un modelo entrenado para clasificar estos usuarios podría transferirse para clasificar usuarios que transmiten en otro idioma.\n",
    "\n",
    "**Aplicaciones**\n",
    "- Mejorar el rendimiento del modelo en datasets más pequeños.\n",
    "- Rápido despliegue de modelos en diferentes contextos."
   ]
  },
  {
   "cell_type": "markdown",
   "metadata": {},
   "source": [
    "#### Clasificación Binaria de Nodos\n",
    "\n",
    "En el contexto de las redes sociales, los nodos suelen representar entidades como usuarios o elementos de contenido. La clasificación binaria de nodos involucra etiquetar estos nodos en una de dos categorías. Por ejemplo, en una red de Twitch, podríamos querer clasificar si un streamer utiliza o no lenguaje explícito.\n",
    "\n",
    "**Aplicaciones**\n",
    "- Filtrado de contenido.\n",
    "- Personalización de la experiencia del usuario.\n"
   ]
  },
  {
   "cell_type": "markdown",
   "metadata": {},
   "source": [
    "#### Predicción de Enlaces\n",
    "\n",
    "La predicción de enlaces trata de prever futuras relaciones entre nodos en una red. En una red social como Twitch, esto podría significar predecir quiénes se seguirán mutuamente en el futuro.\n",
    "\n",
    "**Aplicaciones**\n",
    "- Sugerencia de amigos o conexiones.\n",
    "- Detección de spam o comportamiento malicioso."
   ]
  },
  {
   "cell_type": "markdown",
   "metadata": {},
   "source": [
    "#### Detección de Comunidades\n",
    "\n",
    "La detección de comunidades involucra identificar grupos de nodos que interactúan más frecuentemente entre sí que con nodos fuera del grupo. Estos pueden representar, por ejemplo, grupos de streamers que suelen jugar los mismos juegos o que comparten una base de seguidores similar.\n",
    "\n",
    "**Aplicaciones**\n",
    "- Segmentación de mercado.\n",
    "- Recomendación de contenido."
   ]
  },
  {
   "cell_type": "markdown",
   "metadata": {},
   "source": [
    "#### Visualización de Redes\n",
    "\n",
    "La visualización de redes permite representar gráficamente la estructura de la red, lo que puede hacer más fácil identificar patrones, como comunidades o nodos influyentes.\n",
    "\n",
    "**Aplicaciones**\n",
    "- Análisis exploratorio de datos.\n",
    "- Comunicación de hallazgos en informes o presentaciones."
   ]
  },
  {
   "cell_type": "markdown",
   "metadata": {},
   "source": [
    "## 1. Depuraración del dataset escogido para su correcta manipulación en los análisis (10%)"
   ]
  },
  {
   "cell_type": "markdown",
   "metadata": {},
   "source": [
    "### 1.1 Carga del Dataset y Revisión Inicial"
   ]
  },
  {
   "cell_type": "code",
   "execution_count": 18,
   "metadata": {},
   "outputs": [
    {
     "name": "stdout",
     "output_type": "stream",
     "text": [
      "Primeros registros de aristas:\n",
      "   from    to\n",
      "0     0  1819\n",
      "1     0  2840\n",
      "2     1  1565\n",
      "3     1  1309\n",
      "4     1  1397\n",
      "Primeras características de nodos:\n",
      "{'1412': [89, 166, 1040, 846, 2987, 1649, 920, 224, 3097, 400, 569, 822, 2362, 802, 2728, 2734], '3032': [515, 1943, 289, 3084, 1575, 3164, 920, 224, 3097, 400, 1391, 635, 569, 821, 2645, 1147, 440], '4032': [1948, 421, 586, 202, 2024, 846, 45, 3164, 920, 224, 2798, 2064, 2534, 139, 2664, 2362], '3945': [438, 2464, 967, 861, 152, 1649, 920, 1907, 2185, 2986, 1607, 1895, 1013, 928, 569, 139, 608, 2362, 802, 1530, 1028, 1147, 763, 2734, 82], '949': [2598, 1713, 1053, 2928, 473, 846, 920, 224, 3097, 706, 1525, 2912, 2362]}\n",
      "Primeros registros de objetivos:\n",
      "          id  days  mature   views  partner  new_id\n",
      "0   68458707  1522   False    4405    False    3558\n",
      "1  133928858   768   False  164810     True    3372\n",
      "2   46892468  1895   False    4953    False     818\n",
      "3  128745923   828    True   12262    False     236\n",
      "4   84422595  1317   False    4937    False    2255\n"
     ]
    }
   ],
   "source": [
    "import pandas as pd\n",
    "import json\n",
    "\n",
    "# Cargar CSV de aristas\n",
    "edges_df = pd.read_csv(\"./data/twitch_ES/musae_ES_edges.csv\")\n",
    "print(\"Primeros registros de aristas:\")\n",
    "print(edges_df.head())\n",
    "\n",
    "# Cargar JSON de características de nodos\n",
    "with open(\"./data/twitch_ES/musae_ES_features.json\") as f:\n",
    "    features_json = json.load(f)\n",
    "print(\"Primeras características de nodos:\")\n",
    "print({k: features_json[k] for k in list(features_json)[:5]})\n",
    "\n",
    "# Cargar CSV de targets (objetivos)\n",
    "target_df = pd.read_csv(\"./data/twitch_ES/musae_ES_target.csv\")\n",
    "print(\"Primeros registros de objetivos:\")\n",
    "print(target_df.head())\n"
   ]
  },
  {
   "cell_type": "markdown",
   "metadata": {},
   "source": [
    "### 1.2 Verificación de Integridad"
   ]
  },
  {
   "cell_type": "code",
   "execution_count": 19,
   "metadata": {},
   "outputs": [
    {
     "name": "stdout",
     "output_type": "stream",
     "text": [
      "Valores faltantes en aristas: from    0\n",
      "to      0\n",
      "dtype: int64\n",
      "Valores faltantes en objetivos: id         0\n",
      "days       0\n",
      "mature     0\n",
      "views      0\n",
      "partner    0\n",
      "new_id     0\n",
      "dtype: int64\n",
      "Valores faltantes en características: 0\n"
     ]
    }
   ],
   "source": [
    "print(\"Valores faltantes en aristas:\", edges_df.isna().sum())\n",
    "print(\"Valores faltantes en objetivos:\", target_df.isna().sum())\n",
    "\n",
    "# Para el archivo de características, como es un JSON, podríamos hacer algo más manual:\n",
    "missing_features = {k: v for k, v in features_json.items() if not v}\n",
    "print(\"Valores faltantes en características:\", len(missing_features))\n"
   ]
  },
  {
   "cell_type": "markdown",
   "metadata": {},
   "source": [
    "#### 1.2.2 Eliminación de datos faltantes"
   ]
  },
  {
   "cell_type": "code",
   "execution_count": 20,
   "metadata": {},
   "outputs": [],
   "source": [
    "edges_df.dropna(inplace=True)\n",
    "target_df.dropna(inplace=True)"
   ]
  },
  {
   "cell_type": "markdown",
   "metadata": {},
   "source": [
    "#### 1.2.3 Eliminación nodos o aristas duplicadas"
   ]
  },
  {
   "cell_type": "code",
   "execution_count": 21,
   "metadata": {},
   "outputs": [],
   "source": [
    "edges_df.drop_duplicates(inplace=True)\n",
    "target_df.drop_duplicates(subset='id', inplace=True)"
   ]
  },
  {
   "cell_type": "markdown",
   "metadata": {},
   "source": [
    "### 1.3 Identificación y Tratamiento de Outliers usando el método IQR"
   ]
  },
  {
   "cell_type": "markdown",
   "metadata": {},
   "source": [
    "#### 1.3.1 Justificación para usar IQR"
   ]
  },
  {
   "cell_type": "markdown",
   "metadata": {},
   "source": [
    "Hemos decidido usar el método del Rango Intercuartílico (IQR, por sus siglas en inglés) para el tratamiento de outliers en nuestro conjunto de datos. Las razones para esta elección son:\n",
    "\n",
    "1. **Robustez**: El método IQR es robusto ante valores extremos, lo que lo hace especialmente útil para conjuntos de datos con outliers pronunciados.\n",
    "\n",
    "2. **No paramétrico**: A diferencia de otros métodos como el Z-score, el IQR no hace suposiciones sobre la distribución subyacente de los datos. Esto lo hace más versátil y aplicable a una gama más amplia de escenarios.\n",
    "\n",
    "3. **Independencia de la forma de la distribución**: El método IQR no requiere que los datos sigan una distribución específica, como la distribución normal, lo que lo hace adecuado para nuestro conjunto de datos.\n",
    "\n",
    "4. **Aplicabilidad a nuestras características**: Dado que estamos trabajando con una red, algunas de las métricas pueden tener distribuciones largamente sesgadas o con una forma inusual. El método IQR es especialmente útil en tales circunstancias."
   ]
  },
  {
   "cell_type": "markdown",
   "metadata": {},
   "source": [
    "#### 1.3.2 Aplicación del método IQR"
   ]
  },
  {
   "cell_type": "markdown",
   "metadata": {},
   "source": [
    "##### Aplicando en las caracteristicas de los nodos"
   ]
  },
  {
   "cell_type": "code",
   "execution_count": 23,
   "metadata": {},
   "outputs": [
    {
     "name": "stdout",
     "output_type": "stream",
     "text": [
      "Después del tratamiento de outliers:\n",
      "        0     1     2     3     4     5      6       7     8       9   ...  \\\n",
      "1412    89   166  1040   846  2987  1649  920.0   224.0  3097   400.0  ...   \n",
      "3032   515  1943   289  3084  1575  3164  920.0   224.0  3097   400.0  ...   \n",
      "4032  1948   421   586   202  2024   846  920.0   224.0   920   224.0  ...   \n",
      "3945   438  2464   967   861   152  1649  920.0  1907.0  2185  2986.0  ...   \n",
      "949   2598  1713  1053  2928   473   846  920.0   224.0  3097   706.0  ...   \n",
      "\n",
      "         67     68      69      70      71     72      73      74      75  \\\n",
      "1412  635.0  436.0  1213.0  1147.0  2631.0  436.0  1213.0  1598.0  1260.0   \n",
      "3032  635.0  436.0  1213.0  1147.0  2631.0  436.0  1213.0  1598.0  1260.0   \n",
      "4032  635.0  436.0  1213.0  1147.0  2631.0  436.0  1213.0  1598.0  1260.0   \n",
      "3945  635.0  436.0  1213.0  1147.0  2631.0  436.0  1213.0  1598.0  1260.0   \n",
      "949   635.0  436.0  1213.0  1147.0  2631.0  436.0  1213.0  1598.0  1260.0   \n",
      "\n",
      "          76  \n",
      "1412  3057.0  \n",
      "3032  3057.0  \n",
      "4032  3057.0  \n",
      "3945  3057.0  \n",
      "949   3057.0  \n",
      "\n",
      "[5 rows x 77 columns]\n"
     ]
    }
   ],
   "source": [
    "import pandas as pd\n",
    "\n",
    "# Convertir el diccionario JSON de características en un DataFrame\n",
    "features_df = pd.DataFrame.from_dict(features_json, orient='index')\n",
    "\n",
    "# Calculando IQR para cada columna\n",
    "Q1 = features_df.quantile(0.25)\n",
    "Q3 = features_df.quantile(0.75)\n",
    "IQR = Q3 - Q1\n",
    "\n",
    "# Definiendo límites para los outliers\n",
    "lower_bound = Q1 - 1.5 * IQR\n",
    "upper_bound = Q3 + 1.5 * IQR\n",
    "\n",
    "# Identificando outliers\n",
    "outliers = ((features_df < lower_bound) | (features_df > upper_bound))\n",
    "\n",
    "# Tratamiento de outliers\n",
    "features_df[outliers] = None\n",
    "\n",
    "# Imputar estos valores NaN con algún otro valor o estrategia\n",
    "for col in features_df.columns:\n",
    "    median_value = features_df[col].median()\n",
    "    features_df[col].fillna(median_value, inplace=True)\n",
    "\n",
    "print(\"Después del tratamiento de outliers:\")\n",
    "print(features_df.head())\n"
   ]
  },
  {
   "cell_type": "markdown",
   "metadata": {},
   "source": [
    "##### Aplicando en los nodos"
   ]
  },
  {
   "cell_type": "code",
   "execution_count": 25,
   "metadata": {},
   "outputs": [],
   "source": [
    "import pandas as pd\n",
    "\n",
    "# Seleccionamos las columnas numéricas que nos interesan\n",
    "numeric_cols = ['days', 'views', 'new_id']\n",
    "\n",
    "# Aplicar el método IQR para cada columna numérica\n",
    "for col in numeric_cols:\n",
    "    Q1 = target_df[col].quantile(0.25)\n",
    "    Q3 = target_df[col].quantile(0.75)\n",
    "    IQR = Q3 - Q1\n",
    "    \n",
    "    # Definir límites para los outliers\n",
    "    lower_bound = Q1 - 1.5 * IQR\n",
    "    upper_bound = Q3 + 1.5 * IQR\n",
    "    \n",
    "    # Identificar outliers\n",
    "    outliers = target_df[(target_df[col] < lower_bound) | (target_df[col] > upper_bound)]\n",
    "    \n",
    "    # Tratamiento de outliers (cambiar por la mediana)\n",
    "    median_value = target_df[col].median()\n",
    "    target_df[col].fillna(median_value, inplace=True)\n"
   ]
  },
  {
   "cell_type": "markdown",
   "metadata": {},
   "source": [
    "### 1.4 Conversión de Tipos de Datos"
   ]
  },
  {
   "cell_type": "markdown",
   "metadata": {},
   "source": [
    "#### 1.4.1 Identificación de Tipos de Datos Actuales"
   ]
  },
  {
   "cell_type": "code",
   "execution_count": 28,
   "metadata": {},
   "outputs": [
    {
     "name": "stdout",
     "output_type": "stream",
     "text": [
      "Tipos de datos de edges_df:\n",
      "from    int32\n",
      "to      int32\n",
      "dtype: object\n",
      "\n",
      "Tipos de datos de target_df:\n",
      "id         int32\n",
      "days       int64\n",
      "mature      bool\n",
      "views      int64\n",
      "partner     bool\n",
      "new_id     int64\n",
      "dtype: object\n",
      "\n",
      "Tipos de datos de features_df:\n",
      "0       int64\n",
      "1       int64\n",
      "2       int64\n",
      "3       int64\n",
      "4       int64\n",
      "       ...   \n",
      "72    float64\n",
      "73    float64\n",
      "74    float64\n",
      "75    float64\n",
      "76    float64\n",
      "Length: 77, dtype: object\n"
     ]
    }
   ],
   "source": [
    "print(\"Tipos de datos de edges_df:\")\n",
    "print(edges_df.dtypes)\n",
    "\n",
    "print(\"\\nTipos de datos de target_df:\")\n",
    "print(target_df.dtypes)\n",
    "\n",
    "print(\"\\nTipos de datos de features_df:\")\n",
    "print(features_df.dtypes)\n"
   ]
  },
  {
   "cell_type": "markdown",
   "metadata": {},
   "source": [
    "#### 1.4.2 Conversión para Aristas y Nodos"
   ]
  },
  {
   "cell_type": "code",
   "execution_count": 29,
   "metadata": {},
   "outputs": [],
   "source": [
    "# Conversión de tipos de datos para el DataFrame de aristas\n",
    "edges_df['from'] = edges_df['from'].astype(int)\n",
    "edges_df['to'] = edges_df['to'].astype(int)\n",
    "\n",
    "# Conversión de tipos de datos para las características de los nodos, considerando las claves como enteros\n",
    "features_json = {int(k): v for k, v in features_json.items()}"
   ]
  },
  {
   "cell_type": "markdown",
   "metadata": {},
   "source": [
    "#### 1.4.3 Conversión para Objetivos"
   ]
  },
  {
   "cell_type": "code",
   "execution_count": 30,
   "metadata": {},
   "outputs": [],
   "source": [
    "target_df['id'] = target_df['id'].astype(int)\n",
    "target_df['days'] = target_df['days'].astype(int)\n",
    "target_df['mature'] = target_df['mature'].astype(bool)\n",
    "target_df['views'] = target_df['views'].astype(int)\n",
    "target_df['partner'] = target_df['partner'].astype(bool)\n",
    "target_df['new_id'] = target_df['new_id'].astype(int)"
   ]
  },
  {
   "cell_type": "markdown",
   "metadata": {},
   "source": [
    "#### 1.4.4 Verificación de Conversión"
   ]
  },
  {
   "cell_type": "code",
   "execution_count": 32,
   "metadata": {},
   "outputs": [
    {
     "name": "stdout",
     "output_type": "stream",
     "text": [
      "\n",
      "Tipos de datos después de la conversión:\n",
      "Tipos de datos de edges_df:\n",
      "from    int32\n",
      "to      int32\n",
      "dtype: object\n",
      "\n",
      "Tipos de datos de target_df:\n",
      "id         int32\n",
      "days       int32\n",
      "mature      bool\n",
      "views      int32\n",
      "partner     bool\n",
      "new_id     int32\n",
      "dtype: object\n",
      "\n",
      "Tipos de datos de features_df:\n",
      "0       int64\n",
      "1       int64\n",
      "2       int64\n",
      "3       int64\n",
      "4       int64\n",
      "       ...   \n",
      "72    float64\n",
      "73    float64\n",
      "74    float64\n",
      "75    float64\n",
      "76    float64\n",
      "Length: 77, dtype: object\n"
     ]
    }
   ],
   "source": [
    "print(\"\\nTipos de datos después de la conversión:\")\n",
    "\n",
    "print(\"Tipos de datos de edges_df:\")\n",
    "print(edges_df.dtypes)\n",
    "\n",
    "print(\"\\nTipos de datos de target_df:\")\n",
    "print(target_df.dtypes)\n",
    "\n",
    "print(\"\\nTipos de datos de features_df:\")\n",
    "print(features_df.dtypes)\n"
   ]
  },
  {
   "cell_type": "markdown",
   "metadata": {},
   "source": [
    "### 1.5 Normalización de Características"
   ]
  },
  {
   "cell_type": "markdown",
   "metadata": {},
   "source": [
    "#### 1.5.1 Normalizar `target_df`"
   ]
  },
  {
   "cell_type": "code",
   "execution_count": 33,
   "metadata": {},
   "outputs": [
    {
     "name": "stdout",
     "output_type": "stream",
     "text": [
      "Primeros registros de target_df normalizado:\n",
      "          id      days  mature     views  partner    new_id\n",
      "0   68458707  0.354098   False  0.000144    False  0.765655\n",
      "1  133928858  0.163934   False  0.005395     True  0.725629\n",
      "2   46892468  0.448172   False  0.000162    False  0.176028\n",
      "3  128745923  0.179067    True  0.000401    False  0.050785\n",
      "4   84422595  0.302396   False  0.000161    False  0.485259\n"
     ]
    }
   ],
   "source": [
    "from sklearn.preprocessing import MinMaxScaler\n",
    "\n",
    "# Inicializar el escalador\n",
    "scaler = MinMaxScaler()\n",
    "\n",
    "# Normalizar columnas numéricas en el DataFrame target_df\n",
    "cols_to_normalize = ['days', 'views', 'new_id']  # Ajustar según las columnas numéricas que tengas\n",
    "target_df[cols_to_normalize] = scaler.fit_transform(target_df[cols_to_normalize])\n",
    "\n",
    "# Mostrar las primeras filas del DataFrame normalizado\n",
    "print(\"Primeros registros de target_df normalizado:\")\n",
    "print(target_df.head())\n"
   ]
  },
  {
   "cell_type": "markdown",
   "metadata": {},
   "source": [
    "#### 1.5.2 Normalizar `features_df`"
   ]
  },
  {
   "cell_type": "code",
   "execution_count": 40,
   "metadata": {},
   "outputs": [
    {
     "name": "stdout",
     "output_type": "stream",
     "text": [
      "Primeras características de nodos normalizadas:\n",
      "            0         1         2         3         4         5         6   \\\n",
      "1412  0.000000  0.052014  0.328377  0.266267  0.943987  0.516438  0.371069   \n",
      "3032  0.143001  0.615604  0.090794  0.973152  0.497152  1.000000  0.371069   \n",
      "4032  0.624035  0.132889  0.184752  0.062855  0.639241  0.260134  0.371069   \n",
      "3945  0.117153  0.780844  0.305283  0.271004  0.046835  0.516438  0.371069   \n",
      "949   0.842229  0.542658  0.332490  0.923879  0.148418  0.260134  0.371069   \n",
      "\n",
      "            7         8         9   ...        67   68        69        70  \\\n",
      "1412  0.107345  0.978824  0.126422  ...  0.017895  0.0  0.037607  0.826687   \n",
      "3032  0.107345  0.978824  0.126422  ...  0.017895  0.0  0.037607  0.826687   \n",
      "4032  0.107345  0.290771  0.070796  ...  0.017895  0.0  0.037607  0.826687   \n",
      "3945  0.971751  0.690582  0.943742  ...  0.017895  0.0  0.037607  0.826687   \n",
      "949   0.107345  0.978824  0.223135  ...  0.017895  0.0  0.037607  0.826687   \n",
      "\n",
      "       71  72  73  74  75  76  \n",
      "1412  1.0 NaN NaN NaN NaN NaN  \n",
      "3032  1.0 NaN NaN NaN NaN NaN  \n",
      "4032  1.0 NaN NaN NaN NaN NaN  \n",
      "3945  1.0 NaN NaN NaN NaN NaN  \n",
      "949   1.0 NaN NaN NaN NaN NaN  \n",
      "\n",
      "[5 rows x 77 columns]\n"
     ]
    }
   ],
   "source": [
    "# Normalizar todas las columnas en features_df\n",
    "features_df = (features_df - features_df.min()) / (features_df.max() - features_df.min())\n",
    "\n",
    "# Verificar los datos normalizados\n",
    "print(\"Primeras características de nodos normalizadas:\")\n",
    "print(features_df.head())\n"
   ]
  },
  {
   "cell_type": "code",
   "execution_count": 41,
   "metadata": {},
   "outputs": [
    {
     "name": "stdout",
     "output_type": "stream",
     "text": [
      "Primeras características de nodos normalizadas en formato de diccionario:\n",
      "{'1412': {0: 0.0, 1: 0.0520139549635268, 2: 0.3283770958557419, 3: 0.26626658243840806, 4: 0.9439873417721519, 5: 0.5164379189275455, 6: 0.3710691823899371, 7: 0.10734463276836158, 8: 0.9788242730720607, 9: 0.1264222503160556, 10: 0.18000632711167353, 11: 0.25128040973111393, 12: 0.7456224132441898, 13: 0.2489652976758994, 14: 0.8606821106821106, 15: 0.8626126126126126, 16: 0.5055714740528494, 17: 0.5498712998712999, 18: 0.4955611921369689, 19: 0.5033783783783784, 20: 0.5041827541827542, 21: 0.5263835263835264, 22: 0.4752765126870527, 23: 0.48124398845783906, 24: 0.4780645161290323, 25: 0.4722672721375284, 26: 0.4485769728331177, 27: 0.3997391587870884, 28: 0.47364996746909566, 29: 0.47364996746909566, 30: 0.47170116429495473, 31: 0.36787391012743126, 32: 0.3665143603133159, 33: 0.3710041976105909, 34: 0.2411764705882353, 35: 0.345679012345679, 36: 0.33191640099185266, 37: 0.38898949655921766, 38: 0.3577673167451244, 39: 0.3652032520325203, 40: 0.3557755775577558, 41: 0.35807113543091657, 42: 0.37014166363966583, 43: 0.3913811374072766, 44: 0.3691931540342298, 45: 0.7178082191780822, 46: 0.3400633412509897, 47: 0.5078479246599232, 48: 0.2844, 49: 0.28889650445510623, 50: 0.6206293706293706, 51: 0.32773750476917207, 52: 0.6957358127605001, 53: 0.5293415216649607, 54: 0.3566407695153533, 55: 0.05860805860805861, 56: 0.300301431801055, 57: 0.6430305973773677, 58: 0.8571428571428571, 59: 0.9054054054054054, 60: 0.43365253077975374, 61: 0.7864583333333334, 62: 0.17344045368620037, 63: 0.7761452031114953, 64: 0.7491705374917054, 65: 0.0571870170015456, 66: 0.3263368315842079, 67: 0.017894736842105262, 68: 0.0, 69: 0.037606837606837605, 70: 0.8266871165644172, 71: 1.0, 72: nan, 73: nan, 74: nan, 75: nan, 76: nan}, '3032': {0: 0.14300100704934543, 1: 0.615604186489058, 2: 0.0907940525150269, 3: 0.9731522425773848, 4: 0.4971518987341772, 5: 1.0, 6: 0.3710691823899371, 7: 0.10734463276836158, 8: 0.9788242730720607, 9: 0.1264222503160556, 10: 0.44005061689338815, 11: 0.1914212548015365, 12: 0.17478510028653296, 13: 0.25501432664756446, 14: 0.833976833976834, 15: 0.351994851994852, 16: 0.13371537726838587, 17: 0.5498712998712999, 18: 0.4955611921369689, 19: 0.5033783783783784, 20: 0.5041827541827542, 21: 0.5263835263835264, 22: 0.4752765126870527, 23: 0.48124398845783906, 24: 0.4780645161290323, 25: 0.4722672721375284, 26: 0.4485769728331177, 27: 0.3997391587870884, 28: 0.47364996746909566, 29: 0.47364996746909566, 30: 0.47170116429495473, 31: 0.36787391012743126, 32: 0.3665143603133159, 33: 0.3710041976105909, 34: 0.2411764705882353, 35: 0.345679012345679, 36: 0.33191640099185266, 37: 0.38898949655921766, 38: 0.3577673167451244, 39: 0.3652032520325203, 40: 0.3557755775577558, 41: 0.35807113543091657, 42: 0.37014166363966583, 43: 0.3913811374072766, 44: 0.3691931540342298, 45: 0.7178082191780822, 46: 0.3400633412509897, 47: 0.5078479246599232, 48: 0.2844, 49: 0.28889650445510623, 50: 0.6206293706293706, 51: 0.32773750476917207, 52: 0.6957358127605001, 53: 0.5293415216649607, 54: 0.3566407695153533, 55: 0.05860805860805861, 56: 0.300301431801055, 57: 0.6430305973773677, 58: 0.8571428571428571, 59: 0.9054054054054054, 60: 0.43365253077975374, 61: 0.7864583333333334, 62: 0.17344045368620037, 63: 0.7761452031114953, 64: 0.7491705374917054, 65: 0.0571870170015456, 66: 0.3263368315842079, 67: 0.017894736842105262, 68: 0.0, 69: 0.037606837606837605, 70: 0.8266871165644172, 71: 1.0, 72: nan, 73: nan, 74: nan, 75: nan, 76: nan}, '4032': {0: 0.6240349110439745, 1: 0.1328893117665715, 2: 0.1847516608668143, 3: 0.06285533796588756, 4: 0.6392405063291139, 5: 0.26013405681455476, 6: 0.3710691823899371, 7: 0.10734463276836158, 8: 0.29077117572692796, 9: 0.07079646017699115, 10: 0.8851629231255932, 11: 0.6488476312419974, 12: 0.8003820439350525, 13: 0.037886023559375995, 14: 0.8400900900900901, 15: 0.7429214929214929, 16: 0.5055714740528494, 17: 0.5498712998712999, 18: 0.4955611921369689, 19: 0.5033783783783784, 20: 0.5041827541827542, 21: 0.5263835263835264, 22: 0.4752765126870527, 23: 0.48124398845783906, 24: 0.4780645161290323, 25: 0.4722672721375284, 26: 0.4485769728331177, 27: 0.3997391587870884, 28: 0.47364996746909566, 29: 0.47364996746909566, 30: 0.47170116429495473, 31: 0.36787391012743126, 32: 0.3665143603133159, 33: 0.3710041976105909, 34: 0.2411764705882353, 35: 0.345679012345679, 36: 0.33191640099185266, 37: 0.38898949655921766, 38: 0.3577673167451244, 39: 0.3652032520325203, 40: 0.3557755775577558, 41: 0.35807113543091657, 42: 0.37014166363966583, 43: 0.3913811374072766, 44: 0.3691931540342298, 45: 0.7178082191780822, 46: 0.3400633412509897, 47: 0.5078479246599232, 48: 0.2844, 49: 0.28889650445510623, 50: 0.6206293706293706, 51: 0.32773750476917207, 52: 0.6957358127605001, 53: 0.5293415216649607, 54: 0.3566407695153533, 55: 0.05860805860805861, 56: 0.300301431801055, 57: 0.6430305973773677, 58: 0.8571428571428571, 59: 0.9054054054054054, 60: 0.43365253077975374, 61: 0.7864583333333334, 62: 0.17344045368620037, 63: 0.7761452031114953, 64: 0.7491705374917054, 65: 0.0571870170015456, 66: 0.3263368315842079, 67: 0.017894736842105262, 68: 0.0, 69: 0.037606837606837605, 70: 0.8266871165644172, 71: 1.0, 72: nan, 73: nan, 74: nan, 75: nan, 76: nan}, '3945': {0: 0.11715340718361866, 1: 0.7808436409768474, 2: 0.30528313824739006, 3: 0.2710044219835755, 4: 0.04683544303797468, 5: 0.5164379189275455, 6: 0.3710691823899371, 7: 0.9717514124293786, 8: 0.6905815423514539, 9: 0.9437420986093552, 10: 0.5083834229674153, 11: 0.5947503201024328, 12: 0.31614135625596945, 13: 0.28907991085641516, 14: 0.16602316602316602, 15: 0.027670527670527672, 16: 0.1872015281757402, 17: 0.7429214929214929, 18: 0.25206087507926445, 19: 0.4752252252252252, 20: 0.3137065637065637, 21: 0.351994851994852, 22: 0.2257644762524398, 23: 0.868868226995832, 24: 0.012580645161290323, 25: 0.4722672721375284, 26: 0.4485769728331177, 27: 0.3997391587870884, 28: 0.47364996746909566, 29: 0.47364996746909566, 30: 0.47170116429495473, 31: 0.36787391012743126, 32: 0.3665143603133159, 33: 0.3710041976105909, 34: 0.2411764705882353, 35: 0.345679012345679, 36: 0.33191640099185266, 37: 0.38898949655921766, 38: 0.3577673167451244, 39: 0.3652032520325203, 40: 0.3557755775577558, 41: 0.35807113543091657, 42: 0.37014166363966583, 43: 0.3913811374072766, 44: 0.3691931540342298, 45: 0.7178082191780822, 46: 0.3400633412509897, 47: 0.5078479246599232, 48: 0.2844, 49: 0.28889650445510623, 50: 0.6206293706293706, 51: 0.32773750476917207, 52: 0.6957358127605001, 53: 0.5293415216649607, 54: 0.3566407695153533, 55: 0.05860805860805861, 56: 0.300301431801055, 57: 0.6430305973773677, 58: 0.8571428571428571, 59: 0.9054054054054054, 60: 0.43365253077975374, 61: 0.7864583333333334, 62: 0.17344045368620037, 63: 0.7761452031114953, 64: 0.7491705374917054, 65: 0.0571870170015456, 66: 0.3263368315842079, 67: 0.017894736842105262, 68: 0.0, 69: 0.037606837606837605, 70: 0.8266871165644172, 71: 1.0, 72: nan, 73: nan, 74: nan, 75: nan, 76: nan}, '949': {0: 0.842228935884525, 1: 0.5426577862353315, 2: 0.33248971844353054, 3: 0.9238787113076438, 4: 0.14841772151898736, 5: 0.26013405681455476, 6: 0.3710691823899371, 7: 0.10734463276836158, 8: 0.9788242730720607, 9: 0.22313527180783818, 10: 0.4824422651059791, 11: 0.9202944942381562, 12: 0.7456224132441898, 13: 0.3814071951607768, 14: 0.42117117117117114, 15: 0.48101673101673104, 16: 0.5055714740528494, 17: 0.5498712998712999, 18: 0.4955611921369689, 19: 0.5033783783783784, 20: 0.5041827541827542, 21: 0.5263835263835264, 22: 0.4752765126870527, 23: 0.48124398845783906, 24: 0.4780645161290323, 25: 0.4722672721375284, 26: 0.4485769728331177, 27: 0.3997391587870884, 28: 0.47364996746909566, 29: 0.47364996746909566, 30: 0.47170116429495473, 31: 0.36787391012743126, 32: 0.3665143603133159, 33: 0.3710041976105909, 34: 0.2411764705882353, 35: 0.345679012345679, 36: 0.33191640099185266, 37: 0.38898949655921766, 38: 0.3577673167451244, 39: 0.3652032520325203, 40: 0.3557755775577558, 41: 0.35807113543091657, 42: 0.37014166363966583, 43: 0.3913811374072766, 44: 0.3691931540342298, 45: 0.7178082191780822, 46: 0.3400633412509897, 47: 0.5078479246599232, 48: 0.2844, 49: 0.28889650445510623, 50: 0.6206293706293706, 51: 0.32773750476917207, 52: 0.6957358127605001, 53: 0.5293415216649607, 54: 0.3566407695153533, 55: 0.05860805860805861, 56: 0.300301431801055, 57: 0.6430305973773677, 58: 0.8571428571428571, 59: 0.9054054054054054, 60: 0.43365253077975374, 61: 0.7864583333333334, 62: 0.17344045368620037, 63: 0.7761452031114953, 64: 0.7491705374917054, 65: 0.0571870170015456, 66: 0.3263368315842079, 67: 0.017894736842105262, 68: 0.0, 69: 0.037606837606837605, 70: 0.8266871165644172, 71: 1.0, 72: nan, 73: nan, 74: nan, 75: nan, 76: nan}}\n"
     ]
    }
   ],
   "source": [
    "# Convertir el DataFrame normalizado de nuevo a un diccionario\n",
    "features_json_normalized = features_df.to_dict(orient='index')\n",
    "\n",
    "# Verificar la conversión\n",
    "print(\"Primeras características de nodos normalizadas en formato de diccionario:\")\n",
    "print({k: features_json_normalized[k] for k in list(features_json_normalized)[:5]})\n"
   ]
  },
  {
   "cell_type": "markdown",
   "metadata": {},
   "source": [
    "## Preparación para Análisis de Red"
   ]
  },
  {
   "cell_type": "markdown",
   "metadata": {},
   "source": [
    "1. Creación de la Red\n",
    "2. Añadir Atributos a los Nodos"
   ]
  },
  {
   "cell_type": "code",
   "execution_count": 6,
   "metadata": {},
   "outputs": [],
   "source": [
    "import networkx as nx\n",
    "\n",
    "G = nx.Graph()\n",
    "\n",
    "for index, row in edges_df.iterrows():\n",
    "    G.add_edge(row['from'], row['to'])\n"
   ]
  },
  {
   "cell_type": "code",
   "execution_count": 7,
   "metadata": {},
   "outputs": [],
   "source": [
    "for node, attributes in features_json.items():\n",
    "    G.nodes[int(node)]['features'] = attributes"
   ]
  },
  {
   "cell_type": "markdown",
   "metadata": {},
   "source": [
    "#### Cálculo de Medidas de Centralidad y Dispersión de Influencia"
   ]
  },
  {
   "cell_type": "code",
   "execution_count": 8,
   "metadata": {},
   "outputs": [],
   "source": [
    "# Grado\n",
    "degree_centrality = nx.degree_centrality(G)\n",
    "\n",
    "# Cercanía\n",
    "closeness_centrality = nx.closeness_centrality(G)\n",
    "\n",
    "# Centralidad de intermediación\n",
    "betweenness_centrality = nx.betweenness_centrality(G)"
   ]
  }
 ],
 "metadata": {
  "kernelspec": {
   "display_name": "venv",
   "language": "python",
   "name": "python3"
  },
  "language_info": {
   "codemirror_mode": {
    "name": "ipython",
    "version": 3
   },
   "file_extension": ".py",
   "mimetype": "text/x-python",
   "name": "python",
   "nbconvert_exporter": "python",
   "pygments_lexer": "ipython3",
   "version": "3.11.4"
  },
  "orig_nbformat": 4
 },
 "nbformat": 4,
 "nbformat_minor": 2
}
