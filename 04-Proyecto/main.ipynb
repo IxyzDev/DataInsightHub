{
 "cells": [
  {
   "cell_type": "markdown",
   "metadata": {},
   "source": [
    "# Bases de Datos III - Proyecto (15%)"
   ]
  },
  {
   "cell_type": "markdown",
   "metadata": {},
   "source": [
    "## Twitch Social Networks - Análisis de Redes Sociales en Twitch"
   ]
  },
  {
   "cell_type": "markdown",
   "metadata": {},
   "source": [
    "## Introducción\n",
    "\n",
    "Este dataset se centra en las redes de usuarios de Twitch, que es una plataforma popular para la transmisión de videojuegos en vivo. Los nodos en estas redes representan a los usuarios de Twitch, mientras que las aristas representan amistades mutuas entre ellos. El dataset incluye diversas características de los usuarios, como los juegos que les gustan y su ubicación, y se centra en la tarea de clasificación binaria de nodos para predecir si un usuario usa lenguaje explícito en sus transmisiones."
   ]
  },
  {
   "cell_type": "markdown",
   "metadata": {},
   "source": [
    "### Descripción del Dataset\n",
    "\n"
   ]
  },
  {
   "cell_type": "markdown",
   "metadata": {},
   "source": [
    "#### Variables\n",
    "\n",
    "- **Nodes (Nodos)**: Representan los usuarios individuales en la red de Twitch.\n",
    "- **Edges (Aristas)**: Representan las relaciones de amistad entre los usuarios.\n",
    "- **Density (Densidad)**: Es una medida de cuán conectada está la red.\n",
    "- **Transitivity (Transitividad)**: Es una medida de la tendencia a formar triángulos en la red.\n",
    "- **Features (Características)**: Atributos de los usuarios como juegos jugados, ubicación, y hábitos de transmisión.\n",
    "\n"
   ]
  },
  {
   "cell_type": "markdown",
   "metadata": {},
   "source": [
    "#### Estadísticas del Dataset\n",
    "\n",
    "- **Número de Nodos**: Varía entre 1,912 y 9,498 dependiendo del idioma.\n",
    "- **Número de Aristas**: Varía entre 31,299 y 153,138.\n",
    "- **Densidad**: Varía entre 0.002 y 0.017.\n",
    "- **Transitividad**: Varía entre 0.042 y 0.131.\n",
    "\n"
   ]
  },
  {
   "cell_type": "markdown",
   "metadata": {},
   "source": [
    "### Descripción detallada de los archivos y datos"
   ]
  },
  {
   "cell_type": "markdown",
   "metadata": {},
   "source": [
    "#### `musae_ES_edges.csv`\n",
    "Este archivo contiene las relaciones entre diferentes nodos (usuarios de Twitch). Las columnas \"from\" y \"to\" representan identificadores únicos de usuarios en Twitch. Cada fila en este archivo muestra una relación de amistad entre dos usuarios."
   ]
  },
  {
   "cell_type": "markdown",
   "metadata": {},
   "source": [
    "#### `musae_ES_features.json`\n",
    "Este archivo en formato JSON contiene características de cada nodo. Cada clave es un identificador único para un nodo y el valor asociado es una lista de características. Estas pueden incluir varios aspectos como los juegos que juegan, su ubicación geográfica, etc.\n",
    "\n",
    "Lamentablemente como no se cuenta con una leyenda o guia, nos vemos en la imposibilitados de realizar los siguientes tipoos de analisis:\n",
    "\n",
    "1. **Análisis Descriptivo**: Sin entender qué representa cada variable, te resultará difícil realizar un análisis descriptivo significativo que ofrezca insights sobre los datos.\n",
    "\n",
    "2. **Modelado Supervisado**: Los modelos de aprendizaje supervisado requieren un buen entendimiento de las características para ser efectivos. No saber qué representan las variables puede hacer que no sepas qué modelo aplicar ni cómo interpretar los resultados.\n",
    "\n",
    "3. **Correlaciones y Relaciones**: Sin entender qué significan las variables, sería inútil calcular correlaciones o relaciones entre ellas, ya que no podrías interpretar el significado de estas relaciones.\n",
    "\n",
    "En resumen, aunque puedes realizar ciertos tipos de análisis no supervisados, como agrupamiento o reducción de dimensionalidad, la falta de una leyenda o guía que explique las características limita seriamente tu capacidad para generar insights significativos o aplicables."
   ]
  },
  {
   "cell_type": "markdown",
   "metadata": {},
   "source": [
    "#### `musae_ES_target.csv`\n",
    "Este archivo contiene información adicional sobre cada nodo, representada en diferentes campos:\n",
    "\n",
    "* id: Identificador único para cada nodo.\n",
    "* days: Número de días desde algún evento significativo (e.g., creación de la cuenta).\n",
    "* mature: Indica si el streamer utiliza lenguaje explícito (True/False).\n",
    "* views: Número de vistas que ha recibido el nodo.\n",
    "* partner: Indica si el nodo es un socio de Twitch (True/False).\n",
    "* new_id: Otro identificador para el nodo, aunque su uso no está claro."
   ]
  },
  {
   "cell_type": "markdown",
   "metadata": {},
   "source": [
    "### Cargar y Previsualización del Dataset"
   ]
  },
  {
   "cell_type": "code",
   "execution_count": 1,
   "metadata": {},
   "outputs": [
    {
     "name": "stdout",
     "output_type": "stream",
     "text": [
      "Primeros registros de Edges:\n",
      "   from    to\n",
      "0     0  1819\n",
      "1     0  2840\n",
      "2     1  1565\n",
      "3     1  1309\n",
      "4     1  1397\n",
      "\n",
      "Primeros registros de Features:\n",
      "1412: [89, 166, 1040, 846, 2987, 1649, 920, 224, 3097, 400, 569, 822, 2362, 802, 2728, 2734]\n",
      "3032: [515, 1943, 289, 3084, 1575, 3164, 920, 224, 3097, 400, 1391, 635, 569, 821, 2645, 1147, 440]\n",
      "4032: [1948, 421, 586, 202, 2024, 846, 45, 3164, 920, 224, 2798, 2064, 2534, 139, 2664, 2362]\n",
      "3945: [438, 2464, 967, 861, 152, 1649, 920, 1907, 2185, 2986, 1607, 1895, 1013, 928, 569, 139, 608, 2362, 802, 1530, 1028, 1147, 763, 2734, 82]\n",
      "949: [2598, 1713, 1053, 2928, 473, 846, 920, 224, 3097, 706, 1525, 2912, 2362]\n",
      "\n",
      "Primeros registros de Target:\n",
      "          id  days  mature   views  partner  new_id\n",
      "0   68458707  1522   False    4405    False    3558\n",
      "1  133928858   768   False  164810     True    3372\n",
      "2   46892468  1895   False    4953    False     818\n",
      "3  128745923   828    True   12262    False     236\n",
      "4   84422595  1317   False    4937    False    2255\n"
     ]
    }
   ],
   "source": [
    "import pandas as pd\n",
    "import json\n",
    "\n",
    "# Cargar los archivos\n",
    "edges = pd.read_csv('./data/twitch_ES/musae_ES_edges.csv')\n",
    "with open('./data/twitch_ES/musae_ES_features.json') as f:\n",
    "    features = json.load(f)\n",
    "target = pd.read_csv('./data/twitch_ES/musae_ES_target.csv')\n",
    "\n",
    "# Mostrar los primeros registros de cada archivo\n",
    "print(\"Primeros registros de Edges:\")\n",
    "print(edges.head())\n",
    "print(\"\\nPrimeros registros de Features:\")\n",
    "for key, value in list(features.items())[:5]:\n",
    "    print(f\"{key}: {value}\")\n",
    "print(\"\\nPrimeros registros de Target:\")\n",
    "print(target.head())\n"
   ]
  },
  {
   "cell_type": "markdown",
   "metadata": {},
   "source": [
    "### Tareas posibles:"
   ]
  },
  {
   "cell_type": "markdown",
   "metadata": {},
   "source": [
    "#### Transferencia de Aprendizaje\n",
    "\n",
    "La transferencia de aprendizaje se refiere al método por el cual un modelo desarrollado para una tarea particular se adapta para una segunda tarea relacionada. Por ejemplo, si se han recopilado datos de usuarios que transmiten en un idioma en particular en Twitch, un modelo entrenado para clasificar estos usuarios podría transferirse para clasificar usuarios que transmiten en otro idioma.\n",
    "\n",
    "**Aplicaciones**\n",
    "- Mejorar el rendimiento del modelo en datasets más pequeños.\n",
    "- Rápido despliegue de modelos en diferentes contextos."
   ]
  },
  {
   "cell_type": "markdown",
   "metadata": {},
   "source": [
    "#### Clasificación Binaria de Nodos\n",
    "\n",
    "En el contexto de las redes sociales, los nodos suelen representar entidades como usuarios o elementos de contenido. La clasificación binaria de nodos involucra etiquetar estos nodos en una de dos categorías. Por ejemplo, en una red de Twitch, podríamos querer clasificar si un streamer utiliza o no lenguaje explícito.\n",
    "\n",
    "**Aplicaciones**\n",
    "- Filtrado de contenido.\n",
    "- Personalización de la experiencia del usuario.\n"
   ]
  },
  {
   "cell_type": "markdown",
   "metadata": {},
   "source": [
    "#### Predicción de Enlaces\n",
    "\n",
    "La predicción de enlaces trata de prever futuras relaciones entre nodos en una red. En una red social como Twitch, esto podría significar predecir quiénes se seguirán mutuamente en el futuro.\n",
    "\n",
    "**Aplicaciones**\n",
    "- Sugerencia de amigos o conexiones.\n",
    "- Detección de spam o comportamiento malicioso."
   ]
  },
  {
   "cell_type": "markdown",
   "metadata": {},
   "source": [
    "#### Detección de Comunidades\n",
    "\n",
    "La detección de comunidades involucra identificar grupos de nodos que interactúan más frecuentemente entre sí que con nodos fuera del grupo. Estos pueden representar, por ejemplo, grupos de streamers que suelen jugar los mismos juegos o que comparten una base de seguidores similar.\n",
    "\n",
    "**Aplicaciones**\n",
    "- Segmentación de mercado.\n",
    "- Recomendación de contenido."
   ]
  },
  {
   "cell_type": "markdown",
   "metadata": {},
   "source": [
    "#### Visualización de Redes\n",
    "\n",
    "La visualización de redes permite representar gráficamente la estructura de la red, lo que puede hacer más fácil identificar patrones, como comunidades o nodos influyentes.\n",
    "\n",
    "**Aplicaciones**\n",
    "- Análisis exploratorio de datos.\n",
    "- Comunicación de hallazgos en informes o presentaciones."
   ]
  },
  {
   "cell_type": "markdown",
   "metadata": {},
   "source": [
    "## 1. Depuraración del dataset escogido para su correcta manipulación en los análisis (10%)"
   ]
  },
  {
   "cell_type": "markdown",
   "metadata": {},
   "source": [
    "### 1.1 Carga del Dataset y Revisión Inicial"
   ]
  },
  {
   "cell_type": "code",
   "execution_count": 24,
   "metadata": {},
   "outputs": [
    {
     "name": "stdout",
     "output_type": "stream",
     "text": [
      "Primeros registros de aristas:\n",
      "   from    to\n",
      "0     0  1819\n",
      "1     0  2840\n",
      "2     1  1565\n",
      "3     1  1309\n",
      "4     1  1397\n",
      "Primeras características de nodos:\n",
      "{'1412': [89, 166, 1040, 846, 2987, 1649, 920, 224, 3097, 400, 569, 822, 2362, 802, 2728, 2734], '3032': [515, 1943, 289, 3084, 1575, 3164, 920, 224, 3097, 400, 1391, 635, 569, 821, 2645, 1147, 440], '4032': [1948, 421, 586, 202, 2024, 846, 45, 3164, 920, 224, 2798, 2064, 2534, 139, 2664, 2362], '3945': [438, 2464, 967, 861, 152, 1649, 920, 1907, 2185, 2986, 1607, 1895, 1013, 928, 569, 139, 608, 2362, 802, 1530, 1028, 1147, 763, 2734, 82], '949': [2598, 1713, 1053, 2928, 473, 846, 920, 224, 3097, 706, 1525, 2912, 2362]}\n",
      "Primeros registros de objetivos:\n",
      "          id  days  mature   views  partner  new_id\n",
      "0   68458707  1522   False    4405    False    3558\n",
      "1  133928858   768   False  164810     True    3372\n",
      "2   46892468  1895   False    4953    False     818\n",
      "3  128745923   828    True   12262    False     236\n",
      "4   84422595  1317   False    4937    False    2255\n"
     ]
    }
   ],
   "source": [
    "import pandas as pd\n",
    "import json\n",
    "\n",
    "# Cargar CSV de aristas\n",
    "edges_df = pd.read_csv(\"./data/twitch_ES/musae_ES_edges.csv\")\n",
    "print(\"Primeros registros de aristas:\")\n",
    "print(edges_df.head())\n",
    "\n",
    "# Cargar JSON de características de nodos\n",
    "with open(\"./data/twitch_ES/musae_ES_features.json\") as f:\n",
    "    features_json = json.load(f)\n",
    "print(\"Primeras características de nodos:\")\n",
    "print({k: features_json[k] for k in list(features_json)[:5]})\n",
    "\n",
    "# Convertir el diccionario JSON de características en un DataFrame\n",
    "features_df = pd.DataFrame.from_dict(features_json, orient='index')\n",
    "\n",
    "# Cargar CSV de targets (objetivos)\n",
    "target_df = pd.read_csv(\"./data/twitch_ES/musae_ES_target.csv\")\n",
    "print(\"Primeros registros de objetivos:\")\n",
    "print(target_df.head())\n"
   ]
  },
  {
   "cell_type": "markdown",
   "metadata": {},
   "source": [
    "### 1.2 Verificación de Integridad"
   ]
  },
  {
   "cell_type": "code",
   "execution_count": 25,
   "metadata": {},
   "outputs": [
    {
     "name": "stdout",
     "output_type": "stream",
     "text": [
      "Valores faltantes en aristas: from    0\n",
      "to      0\n",
      "dtype: int64\n",
      "Valores faltantes en objetivos: id         0\n",
      "days       0\n",
      "mature     0\n",
      "views      0\n",
      "partner    0\n",
      "new_id     0\n",
      "dtype: int64\n",
      "Valores faltantes en características: 0\n"
     ]
    }
   ],
   "source": [
    "print(\"Valores faltantes en aristas:\", edges_df.isna().sum())\n",
    "print(\"Valores faltantes en objetivos:\", target_df.isna().sum())\n",
    "\n",
    "# Para el archivo de características, como es un JSON, podríamos hacer algo más manual:\n",
    "missing_features = {k: v for k, v in features_json.items() if not v}\n",
    "print(\"Valores faltantes en características:\", len(missing_features))\n"
   ]
  },
  {
   "cell_type": "markdown",
   "metadata": {},
   "source": [
    "#### 1.2.2 Eliminación de datos faltantes"
   ]
  },
  {
   "cell_type": "code",
   "execution_count": 26,
   "metadata": {},
   "outputs": [],
   "source": [
    "edges_df.dropna(inplace=True)\n",
    "target_df.dropna(inplace=True)"
   ]
  },
  {
   "cell_type": "markdown",
   "metadata": {},
   "source": [
    "#### 1.2.3 Eliminación nodos o aristas duplicadas"
   ]
  },
  {
   "cell_type": "code",
   "execution_count": 27,
   "metadata": {},
   "outputs": [],
   "source": [
    "edges_df.drop_duplicates(inplace=True)\n",
    "target_df.drop_duplicates(subset='id', inplace=True)"
   ]
  },
  {
   "cell_type": "markdown",
   "metadata": {},
   "source": [
    "### 1.3 Identificación y Tratamiento de Outliers usando el método IQR"
   ]
  },
  {
   "cell_type": "markdown",
   "metadata": {},
   "source": [
    "#### 1.3.1 Justificación para usar IQR"
   ]
  },
  {
   "cell_type": "markdown",
   "metadata": {},
   "source": [
    "Hemos decidido usar el método del Rango Intercuartílico (IQR, por sus siglas en inglés) para el tratamiento de outliers en nuestro conjunto de datos. Las razones para esta elección son:\n",
    "\n",
    "1. **Robustez**: El método IQR es robusto ante valores extremos, lo que lo hace especialmente útil para conjuntos de datos con outliers pronunciados.\n",
    "\n",
    "2. **No paramétrico**: A diferencia de otros métodos como el Z-score, el IQR no hace suposiciones sobre la distribución subyacente de los datos. Esto lo hace más versátil y aplicable a una gama más amplia de escenarios.\n",
    "\n",
    "3. **Independencia de la forma de la distribución**: El método IQR no requiere que los datos sigan una distribución específica, como la distribución normal, lo que lo hace adecuado para nuestro conjunto de datos.\n",
    "\n",
    "4. **Aplicabilidad a nuestras características**: Dado que estamos trabajando con una red, algunas de las métricas pueden tener distribuciones largamente sesgadas o con una forma inusual. El método IQR es especialmente útil en tales circunstancias."
   ]
  },
  {
   "cell_type": "markdown",
   "metadata": {},
   "source": [
    "#### 1.3.2 Aplicación del método IQR"
   ]
  },
  {
   "cell_type": "markdown",
   "metadata": {},
   "source": [
    "##### Aplicando en las caracteristicas de los nodos"
   ]
  },
  {
   "cell_type": "markdown",
   "metadata": {},
   "source": [
    "##### Aplicando en los nodos"
   ]
  },
  {
   "cell_type": "code",
   "execution_count": 30,
   "metadata": {},
   "outputs": [],
   "source": [
    "import pandas as pd\n",
    "\n",
    "# Seleccionamos las columnas numéricas que nos interesan\n",
    "numeric_cols = ['days', 'views', 'new_id']\n",
    "\n",
    "# Aplicar el método IQR para cada columna numérica\n",
    "for col in numeric_cols:\n",
    "    Q1 = target_df[col].quantile(0.25)\n",
    "    Q3 = target_df[col].quantile(0.75)\n",
    "    IQR = Q3 - Q1\n",
    "    \n",
    "    # Definir límites para los outliers\n",
    "    lower_bound = Q1 - 1.5 * IQR\n",
    "    upper_bound = Q3 + 1.5 * IQR\n",
    "    \n",
    "    # Identificar outliers\n",
    "    outliers = target_df[(target_df[col] < lower_bound) | (target_df[col] > upper_bound)]\n",
    "    \n",
    "    # Tratamiento de outliers (cambiar por la mediana)\n",
    "    median_value = target_df[col].median()\n",
    "    target_df[col].fillna(median_value, inplace=True)\n"
   ]
  },
  {
   "cell_type": "markdown",
   "metadata": {},
   "source": [
    "### 1.4 Conversión de Tipos de Datos"
   ]
  },
  {
   "cell_type": "markdown",
   "metadata": {},
   "source": [
    "#### 1.4.1 Identificación de Tipos de Datos Actuales"
   ]
  },
  {
   "cell_type": "code",
   "execution_count": 31,
   "metadata": {},
   "outputs": [
    {
     "name": "stdout",
     "output_type": "stream",
     "text": [
      "Tipos de datos de edges_df:\n",
      "from    int64\n",
      "to      int64\n",
      "dtype: object\n",
      "\n",
      "Tipos de datos de target_df:\n",
      "id         int64\n",
      "days       int64\n",
      "mature      bool\n",
      "views      int64\n",
      "partner     bool\n",
      "new_id     int64\n",
      "dtype: object\n",
      "\n",
      "Tipos de datos de features:\n",
      "0       int64\n",
      "1       int64\n",
      "2       int64\n",
      "3       int64\n",
      "4       int64\n",
      "       ...   \n",
      "72    float64\n",
      "73    float64\n",
      "74    float64\n",
      "75    float64\n",
      "76    float64\n",
      "Length: 77, dtype: object\n"
     ]
    }
   ],
   "source": [
    "print(\"Tipos de datos de edges_df:\")\n",
    "print(edges_df.dtypes)\n",
    "\n",
    "print(\"\\nTipos de datos de target_df:\")\n",
    "print(target_df.dtypes)\n",
    "\n",
    "print(\"\\nTipos de datos de features:\")\n",
    "print(features_df.dtypes)\n"
   ]
  },
  {
   "cell_type": "markdown",
   "metadata": {},
   "source": [
    "#### 1.4.2 Conversión para Aristas y Nodos"
   ]
  },
  {
   "cell_type": "code",
   "execution_count": 32,
   "metadata": {},
   "outputs": [],
   "source": [
    "# Conversión de tipos de datos para el DataFrame de aristas\n",
    "edges_df['from'] = edges_df['from'].astype(int)\n",
    "edges_df['to'] = edges_df['to'].astype(int)\n",
    "\n",
    "# Conversión de tipos de datos para las características de los nodos, considerando las claves como enteros\n",
    "features_json = {int(k): v for k, v in features_json.items()}"
   ]
  },
  {
   "cell_type": "markdown",
   "metadata": {},
   "source": [
    "#### 1.4.3 Conversión para Objetivos"
   ]
  },
  {
   "cell_type": "code",
   "execution_count": 33,
   "metadata": {},
   "outputs": [],
   "source": [
    "target_df['id'] = target_df['id'].astype(int)\n",
    "target_df['days'] = target_df['days'].astype(int)\n",
    "target_df['mature'] = target_df['mature'].astype(bool)\n",
    "target_df['views'] = target_df['views'].astype(int)\n",
    "target_df['partner'] = target_df['partner'].astype(bool)\n",
    "target_df['new_id'] = target_df['new_id'].astype(int)"
   ]
  },
  {
   "cell_type": "markdown",
   "metadata": {},
   "source": [
    "#### 1.4.4 Verificación de Conversión"
   ]
  },
  {
   "cell_type": "code",
   "execution_count": 34,
   "metadata": {},
   "outputs": [
    {
     "name": "stdout",
     "output_type": "stream",
     "text": [
      "\n",
      "Tipos de datos después de la conversión:\n",
      "Tipos de datos de edges_df:\n",
      "from    int32\n",
      "to      int32\n",
      "dtype: object\n",
      "\n",
      "Tipos de datos de target_df:\n",
      "id         int32\n",
      "days       int32\n",
      "mature      bool\n",
      "views      int32\n",
      "partner     bool\n",
      "new_id     int32\n",
      "dtype: object\n",
      "\n",
      "Tipos de datos de features_df:\n",
      "0       int64\n",
      "1       int64\n",
      "2       int64\n",
      "3       int64\n",
      "4       int64\n",
      "       ...   \n",
      "72    float64\n",
      "73    float64\n",
      "74    float64\n",
      "75    float64\n",
      "76    float64\n",
      "Length: 77, dtype: object\n"
     ]
    }
   ],
   "source": [
    "print(\"\\nTipos de datos después de la conversión:\")\n",
    "\n",
    "print(\"Tipos de datos de edges_df:\")\n",
    "print(edges_df.dtypes)\n",
    "\n",
    "print(\"\\nTipos de datos de target_df:\")\n",
    "print(target_df.dtypes)\n",
    "\n",
    "print(\"\\nTipos de datos de features_df:\")\n",
    "print(features_df.dtypes)\n"
   ]
  },
  {
   "cell_type": "markdown",
   "metadata": {},
   "source": [
    "## 2. Calcular medidas de grado (in-degree y out-degree, si la red es dirigida), cercanía (closeness),intermediación (betweenness) y PageRank sobre todos los nodos de la red (20%)"
   ]
  },
  {
   "cell_type": "markdown",
   "metadata": {},
   "source": [
    "### 2.1 Importar librerías y preparar los datos"
   ]
  },
  {
   "cell_type": "markdown",
   "metadata": {},
   "source": [
    "* **Eleccón de si la red es dirigida o no dirigida**:\n",
    "\n",
    "En el dataset de Twitch, las relaciones se describen como \"amistades mutuas\" entre los usuarios, lo que sugiere que la conexión es recíproca y bidireccional. Esto significa que si el usuario A es amigo del usuario B, entonces el usuario B también es amigo del usuario A. Dada esta naturaleza simétrica de las relaciones, un grafo no dirigido sería la representación más adecuada para este dataset."
   ]
  },
  {
   "cell_type": "code",
   "execution_count": 36,
   "metadata": {},
   "outputs": [],
   "source": [
    "import networkx as nx\n",
    "import pandas as pd\n",
    "\n",
    "G = nx.Graph()\n",
    "\n",
    "# Añadir aristas desde el DataFrame\n",
    "for index, row in edges_df.iterrows():\n",
    "    G.add_edge(row['from'], row['to'])"
   ]
  },
  {
   "cell_type": "code",
   "execution_count": null,
   "metadata": {},
   "outputs": [],
   "source": [
    "print('#nodes:', len(G.nodes()), 'and', '#edges:', len(G.edges()))"
   ]
  },
  {
   "cell_type": "code",
   "execution_count": null,
   "metadata": {},
   "outputs": [],
   "source": [
    "# Show the nodes\n",
    "nx.nodes(G)"
   ]
  },
  {
   "cell_type": "code",
   "execution_count": null,
   "metadata": {},
   "outputs": [],
   "source": [
    "# Show the edges\n",
    "nx.edges(G)"
   ]
  },
  {
   "cell_type": "code",
   "execution_count": null,
   "metadata": {},
   "outputs": [],
   "source": [
    "# Drawing\n",
    "import matplotlib.pyplot as plt\n",
    "layout = nx.fruchterman_reingold_layout(G)\n",
    "plt.figure(figsize=(10,10))\n",
    "plt.axis(\"off\") \n",
    "nx.draw_networkx(G, layout, with_labels=True, node_color = '#FF5733' )"
   ]
  },
  {
   "cell_type": "markdown",
   "metadata": {},
   "source": [
    "### 2.2 Calcular medidas de centralidad"
   ]
  },
  {
   "cell_type": "code",
   "execution_count": 37,
   "metadata": {},
   "outputs": [],
   "source": [
    "# Grado\n",
    "degree_centrality = nx.degree_centrality(G)\n",
    "\n",
    "# Cercanía\n",
    "closeness_centrality = nx.closeness_centrality(G)\n",
    "\n",
    "# Centralidad de intermediación\n",
    "betweenness_centrality = nx.betweenness_centrality(G)\n",
    "\n",
    "pagerank = nx.pagerank(G, alpha=0.9)"
   ]
  },
  {
   "cell_type": "markdown",
   "metadata": {},
   "source": [
    "### 2.3 Visualizar  resultados"
   ]
  },
  {
   "cell_type": "code",
   "execution_count": 41,
   "metadata": {},
   "outputs": [
    {
     "name": "stdout",
     "output_type": "stream",
     "text": [
      "        degree  closeness  betweenness  pagerank\n",
      "1819  0.219927   0.516850     0.109466  0.008905\n",
      "3719  0.217775   0.517483     0.111117  0.008806\n",
      "2475  0.159673   0.488438     0.057213  0.006086\n",
      "596   0.131698   0.469015     0.035709  0.004951\n",
      "1565  0.128040   0.489364     0.039242  0.004717\n",
      "...        ...        ...          ...       ...\n",
      "2083  0.000215   0.284116     0.000000  0.000029\n",
      "2498  0.000215   0.255611     0.000000  0.000031\n",
      "2396  0.000215   0.279552     0.000000  0.000030\n",
      "1765  0.000215   0.298842     0.000000  0.000029\n",
      "4347  0.000215   0.224775     0.000000  0.000060\n",
      "\n",
      "[4648 rows x 4 columns]\n"
     ]
    }
   ],
   "source": [
    "import pandas as pd\n",
    "\n",
    "# Crear un DataFrame desde los diccionarios\n",
    "centrality_measures = {\n",
    "    'degree': degree_centrality,\n",
    "    'closeness': closeness_centrality,\n",
    "    'betweenness': betweenness_centrality,\n",
    "    'pagerank': pagerank\n",
    "}\n",
    "\n",
    "df = pd.DataFrame(centrality_measures)\n",
    "\n",
    "# Ordenar el DataFrame por la columna 'degree' de mayor a menor\n",
    "df = df.sort_values(by='degree', ascending=False)\n",
    "\n",
    "# Visualizar el DataFrame ordenado\n",
    "print(df.head())\n"
   ]
  }
 ],
 "metadata": {
  "kernelspec": {
   "display_name": "venv",
   "language": "python",
   "name": "python3"
  },
  "language_info": {
   "codemirror_mode": {
    "name": "ipython",
    "version": 3
   },
   "file_extension": ".py",
   "mimetype": "text/x-python",
   "name": "python",
   "nbconvert_exporter": "python",
   "pygments_lexer": "ipython3",
   "version": "3.11.4"
  },
  "orig_nbformat": 4
 },
 "nbformat": 4,
 "nbformat_minor": 2
}
