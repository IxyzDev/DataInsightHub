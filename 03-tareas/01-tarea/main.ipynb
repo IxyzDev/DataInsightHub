{
 "cells": [
  {
   "cell_type": "markdown",
   "metadata": {},
   "source": [
    "\n",
    "# Bases de Datos III - Tarea Nº1 (10%)"
   ]
  },
  {
   "cell_type": "markdown",
   "metadata": {},
   "source": [
    "## Presentación del dataset y cuaderno\n",
    "Debe realizar una descripción del dataset que está trabajando,\n",
    "indicando cuáles son las variables que éste contiene, el tipo de dato de estas variables debe ser\n",
    "ordenado y explicativo mediante comentarios. En caso de usar librerías externas debe presentar\n",
    "documentación."
   ]
  },
  {
   "cell_type": "markdown",
   "metadata": {},
   "source": [
    "## Apartado Nº1:\n",
    "Debe realizar un análisis estadístico univariado al conjunto de datos el cual muestra el\n",
    "comportamiento de “al menos 2 variables estudiadas por separado” de medida y obtener métricas.\n",
    "Luego debe averiguar cuántas filas de los datos contienen valores NaN. De ser así debe crear un nuevo\n",
    "subconjunto de datos que contenga filas solo con valores que sean significativos, para realizar esto\n",
    "debe establecer una estrategia de solución. Puede utilizar varios métodos de limpieza de datos NaN.\n",
    "Debe obtener nuevamente las métricas del nuevo conjunto de datos y trabajar con él en los siguientes\n",
    "apartados.\n",
    "Además, debe presentar una pequeña conclusión sobre los valores obtenidos entre el primer conjunto\n",
    "de datos y el subconjunto de datos, e indicar cuál cree usted que es mejor para el análisis.\n",
    "Debe agregar gráficos de las métricas para así obtener una mayor claridad visual del trabajo realizado,\n",
    "como por ejemplo gráfica de distribución normal, histogramas, gráficas de cajas, gráficas de torta etc."
   ]
  },
  {
   "cell_type": "markdown",
   "metadata": {},
   "source": [
    "## Apartado Nº2:\n",
    "Estudiar la relación entre dos variables del conjunto de datos mediante un análisis Bivariado y dar\n",
    "una hipótesis la cual debe ser planteada por usted (Recordar que para realizar este análisis se define\n",
    "por pasos) es pertinente que sea bien detallado en el código.\n",
    "\n",
    "Observación: Para medir la relación entre dos variables se define la covarianza, la cual indica\n",
    "si es positivo nos dice que estas se relacionarían de forma directa y si es negativa de forma\n",
    "inversa, la covarianza está presente en distintas fórmulas tal como se indicó en clases, una\n",
    "de ella es el coeficiente de correlación de Pearson. Valor que oscila entre -1 y 1, mientras\n",
    "más cerca a estos límites más fuerte será el grado de asociación inversa (-) o directa (+) de\n",
    "las dos variables.\n",
    "\n",
    "Usando las funciones de varianza, media y covarianza hacer una recta de regresión (puede ser de\n",
    "utilidad un gráfico scatter). Saque conclusiones sobre su hipótesis con los resultados obtenidos.\n"
   ]
  },
  {
   "cell_type": "markdown",
   "metadata": {},
   "source": [
    "## Apartado Nº3:\n",
    "En base a lo aprendido en clases realice un análisis estadístico de multivariable sobre el conjunto de\n",
    "datos, usted debe plantear y describir este análisis, es decir que hipótesis está realizando, cuáles son\n",
    "las variables involucradas etc. de tal forma que sea bien completo y explicativo, utilizar\n",
    "representación gráfica para mejor entendimiento de lo planteado y aplicar los contenidos vistos en\n",
    "clases."
   ]
  }
 ],
 "metadata": {
  "kernelspec": {
   "display_name": "Python 3",
   "language": "python",
   "name": "python3"
  },
  "language_info": {
   "codemirror_mode": {
    "name": "ipython",
    "version": 3
   },
   "file_extension": ".py",
   "mimetype": "text/x-python",
   "name": "python",
   "nbconvert_exporter": "python",
   "pygments_lexer": "ipython3",
   "version": "3.11.4"
  },
  "orig_nbformat": 4
 },
 "nbformat": 4,
 "nbformat_minor": 2
}
